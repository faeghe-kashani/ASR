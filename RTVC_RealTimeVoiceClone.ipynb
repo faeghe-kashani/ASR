{
  "nbformat": 4,
  "nbformat_minor": 0,
  "metadata": {
    "colab": {
      "provenance": []
    },
    "kernelspec": {
      "name": "python3",
      "display_name": "Python 3"
    },
    "language_info": {
      "name": "python"
    }
  },
  "cells": [
    {
      "cell_type": "code",
      "source": [
        "!pip install torch\n",
        "!git clone https://github.com/CorentinJ/Real-Time-Voice-Cloning.git\n",
        "%cd Real-Time-Voice-Cloning\n",
        "!pip install numpy==1.22.3"
      ],
      "metadata": {
        "id": "-H8VkuG6UHez"
      },
      "execution_count": null,
      "outputs": []
    },
    {
      "cell_type": "code",
      "source": [
        "# remove numpy from req file before run\n",
        "!pip install -r requirements.txt"
      ],
      "metadata": {
        "id": "Ix6BHiWydBGX"
      },
      "execution_count": null,
      "outputs": []
    },
    {
      "cell_type": "markdown",
      "source": [
        "![download.png](data:image/png;base64,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)"
      ],
      "metadata": {
        "id": "SURKb4TLvY-N"
      }
    },
    {
      "cell_type": "code",
      "source": [
        "import sys\n",
        "from pathlib import Path\n",
        "import librosa\n",
        "from IPython.display import Audio\n",
        "import soundfile as sf\n",
        "import numpy as np\n",
        "!pip install Unidecode\n",
        "\n",
        "\n",
        "sys.path.append('Real-Time-Voice-Cloning/')  # Adjust based on actual path\n",
        "!mkdir -p encoder/saved_models\n",
        "!mkdir -p synthesizer/saved_models\n",
        "!mkdir -p vocoder/saved_models\n",
        "\n",
        "!gdown --id '1hoFzOhkAA_FMLxZujFma00Cj4cR1fmTL' -O encoder/saved_models/encoder.pt\n",
        "!gdown --id '19DGdDixWUAzzF88aNd1FL3wQngtzdnry' -O synthesizer/saved_models/synthesizer.pt\n",
        "!gdown --id '1lc--7GQqlL7uJ5GC2ulJL4H6n9mZF4Pq' -O vocoder/saved_models/vocoder.pt\n",
        "from encoder import inference as encoder\n",
        "from synthesizer.inference import Synthesizer\n",
        "from vocoder import inference as vocoder\n",
        "\n",
        "# Load models (paths might need to be adjusted based on where you've stored them)\n",
        "encoder.load_model(Path('/content/encoder/saved_models/encoder.pt'))\n",
        "synthesizer = Synthesizer(Path('/content/synthesizer/saved_models/synthesizer.pt'))\n",
        "vocoder.load_model(Path('/content/vocoder/saved_models/vocoder.pt'))\n",
        "\n",
        "# Function to clone voice\n",
        "def clone_voice(text, source_audio):\n",
        "    \"\"\"\n",
        "    Clone voice from source audio to generate text.\n",
        "    \"\"\"\n",
        "    # Preprocess the source audio\n",
        "    preprocessed_wav = encoder.preprocess_wav(source_audio)\n",
        "\n",
        "    # Encode the source audio to get the embedding\n",
        "    original_wav, sampling_rate = librosa.load(source_audio)\n",
        "    embed = encoder.embed_utterance(preprocessed_wav)\n",
        "\n",
        "    # Synthesize the speech\n",
        "    specs = synthesizer.synthesize_spectrograms([text], [embed])\n",
        "    generated_wav = vocoder.infer_waveform(specs[0])\n",
        "\n",
        "    # Adjust the sample rate\n",
        "    generated_wav = np.pad(generated_wav, (0, synthesizer.sample_rate), mode=\"constant\")\n",
        "\n",
        "    return generated_wav\n",
        "\n",
        "# Example usage\n",
        "text_to_clone = \"This  is the test to see the quality of the AI voice version.\"\n",
        "source_audio_path = \"/content/oh-yeah-everything-is-fine.wav\"\n",
        "\n",
        "cloned_voice = clone_voice(text_to_clone, source_audio_path)\n",
        "\n",
        "# Save or process the cloned voice further...\n",
        "sampling_rate = 16000\n",
        "\n",
        "# Convert the NumPy array to an audio file\n",
        "sf.write('cloned_voice.wav', cloned_voice, sampling_rate)\n",
        "\n",
        "# Use IPython.display.Audio to play the sound\n",
        "Audio('cloned_voice.wav')"
      ],
      "metadata": {
        "id": "aFbaXPsQUhIh"
      },
      "execution_count": null,
      "outputs": []
    }
  ]
}