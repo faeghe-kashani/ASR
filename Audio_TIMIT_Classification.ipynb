{
  "cells": [
    {
      "cell_type": "code",
      "execution_count": null,
      "metadata": {
        "id": "lIYdn1woOS1n"
      },
      "outputs": [],
      "source": [
        "import librosa\n",
        "import numpy as np\n",
        "from sklearn.model_selection import train_test_split\n",
        "from sklearn.preprocessing import LabelEncoder\n",
        "from keras.utils import to_categorical\n",
        "from keras.models import Sequential\n",
        "from keras.layers import Dense\n",
        "import os\n",
        "from tqdm.notebook import tqdm"
      ]
    },
    {
      "cell_type": "code",
      "source": [
        "# Download the TIMIT dataset\n",
        "!wget cls.ru.nl/~ltenbosch/TIMIT.tar.gz\n",
        "!tar -zxvf /content/TIMIT.tar.gz"
      ],
      "metadata": {
        "id": "jcTMRkPkcCnC"
      },
      "execution_count": null,
      "outputs": []
    },
    {
      "cell_type": "code",
      "source": [
        "# Initialize empty lists for train and test sets\n",
        "mfcc_train = []\n",
        "mfcc_test = []\n",
        "\n",
        "# Define the root directories for train and test sets\n",
        "root_dir_train = 'wavfiles16kHz/TRAIN'\n",
        "root_dir_test = 'wavfiles16kHz/TEST'\n",
        "\n",
        "# Iterate over the train files\n",
        "for filename in tqdm(os.listdir(root_dir_train)):\n",
        "    if filename.endswith('.WAV'):\n",
        "        file_path = os.path.join(root_dir_train, filename)\n",
        "        audio, sr = librosa.load(file_path)\n",
        "        mfcc = librosa.feature.mfcc(y=audio, sr=sr)\n",
        "        mfcc_train.append(np.mean(mfcc, axis=1))\n",
        "\n",
        "# Iterate over the test files\n",
        "for filename in tqdm(os.listdir(root_dir_test)):\n",
        "    if filename.endswith('.WAV'):\n",
        "        file_path = os.path.join(root_dir_test, filename)\n",
        "        audio, sr = librosa.load(file_path)\n",
        "        mfcc = librosa.feature.mfcc(y=audio, sr=sr)\n",
        "        mfcc_test.append(np.mean(mfcc, axis=1))"
      ],
      "metadata": {
        "id": "pDH023QDcFZW",
        "colab": {
          "base_uri": "https://localhost:8080/",
          "height": 81,
          "referenced_widgets": [
            "4f7d871342f9474baf0729de316e20a2",
            "50914efb6db04cbeb17d9f754edd79cb",
            "83c78e8730c04fb4870942138fb157e7",
            "275044ebe881453989f56eeb70c10b39",
            "6f16dfbf08a0405fb7b4524d95ff67de",
            "598a4f01f628426db5a1c0ab572eee2c",
            "8228b6ce8eaf4c9890cf304e90143841",
            "1f2ba9a8c03144b2bd769308ee79c0be",
            "a9ca57aa2cd1411992704e35e148a2d6",
            "ae932e447a60446ea8facba9e8ac9e2c",
            "0e99007674684086bb803705d91f6736",
            "dc3ce1512e834f09b9ce363248d73913",
            "3090892e95a34559a273a8efe28553ae",
            "e1250839b1694bb8b91b57adc0a152ae",
            "5da6594f4e704fe68b6feb2c89095e3d",
            "c7e394d7d4414ba2b209ad2899578b78",
            "10f446e8d06643a19deda065e6f486af",
            "0d52cd4ca48c47168ecd58c56608c308",
            "b9c51ed05e4e45569b38fb191aeeb38f",
            "8008eb8af8214b029502e70e77ae7916",
            "c59b93c9b2f14db48840977660fddeaf",
            "087c053afe0f4045aea021c914831f38"
          ]
        },
        "outputId": "66d2ccb7-eb82-4eba-9cdf-3ae65d45fc2f"
      },
      "execution_count": null,
      "outputs": [
        {
          "output_type": "display_data",
          "data": {
            "text/plain": [
              "  0%|          | 0/4620 [00:00<?, ?it/s]"
            ],
            "application/vnd.jupyter.widget-view+json": {
              "version_major": 2,
              "version_minor": 0,
              "model_id": "4f7d871342f9474baf0729de316e20a2"
            }
          },
          "metadata": {}
        },
        {
          "output_type": "display_data",
          "data": {
            "text/plain": [
              "  0%|          | 0/1680 [00:00<?, ?it/s]"
            ],
            "application/vnd.jupyter.widget-view+json": {
              "version_major": 2,
              "version_minor": 0,
              "model_id": "dc3ce1512e834f09b9ce363248d73913"
            }
          },
          "metadata": {}
        }
      ]
    },
    {
      "cell_type": "code",
      "source": [
        "labels_train = []\n",
        "root_dir = 'wavfiles16kHz/TRAIN'\n",
        "for filename in os.listdir(root_dir):\n",
        "    if filename.endswith('.WAV'):\n",
        "        label = filename[3]\n",
        "        labels_train.append(label)\n",
        "\n",
        "labels_test = []\n",
        "root_dir = 'wavfiles16kHz/TEST'\n",
        "for filename in os.listdir(root_dir):\n",
        "    if filename.endswith('.WAV'):\n",
        "        label = filename[3]\n",
        "        labels_test.append(label)\n",
        "\n",
        "\n",
        "# Convert the labels to one-hot encoding\n",
        "encoder = LabelEncoder()\n",
        "# Fit the encoder on the train labels\n",
        "encoder.fit(labels_train)\n",
        "# Transform the train and test labels to one-hot encoding\n",
        "encoded_labels_train = encoder.transform(labels_train)\n",
        "encoded_labels_test = encoder.transform(labels_test)\n",
        "one_hot_labels_train = to_categorical(encoded_labels_train)\n",
        "one_hot_labels_test = to_categorical(encoded_labels_test)"
      ],
      "metadata": {
        "id": "Ig-Q8qA9cHc7"
      },
      "execution_count": null,
      "outputs": []
    },
    {
      "cell_type": "code",
      "source": [
        "model = Sequential()\n",
        "model.add(Dense(64, input_dim=mfcc_train[0].shape[0], activation='relu'))\n",
        "model.add(Dense(32, activation='relu'))\n",
        "model.add(Dense(one_hot_labels_train.shape[1], activation='softmax'))\n",
        "model.compile(loss='categorical_crossentropy', optimizer='adam', metrics=['accuracy'])"
      ],
      "metadata": {
        "id": "Tqg4oqPHcMEW"
      },
      "execution_count": null,
      "outputs": []
    },
    {
      "cell_type": "code",
      "source": [
        "# Convert the lists to NumPy arrays and reshape\n",
        "mfcc_train = np.array(mfcc_train)\n",
        "mfcc_test = np.array(mfcc_test)"
      ],
      "metadata": {
        "id": "787VWIcdjAix"
      },
      "execution_count": null,
      "outputs": []
    },
    {
      "cell_type": "code",
      "source": [
        "# Train the model\n",
        "model.fit(mfcc_train, one_hot_labels_train, epochs=10, batch_size=64, validation_split=0.2)"
      ],
      "metadata": {
        "id": "vcwvmXLFcNfN",
        "colab": {
          "base_uri": "https://localhost:8080/"
        },
        "outputId": "e474b901-06db-432b-d979-761fa60b89eb"
      },
      "execution_count": null,
      "outputs": [
        {
          "output_type": "stream",
          "name": "stdout",
          "text": [
            "Epoch 1/10\n",
            "58/58 [==============================] - 2s 7ms/step - loss: 2.7459 - accuracy: 0.6718 - val_loss: 0.5364 - val_accuracy: 0.8160\n",
            "Epoch 2/10\n",
            "58/58 [==============================] - 0s 4ms/step - loss: 0.2871 - accuracy: 0.8831 - val_loss: 0.2036 - val_accuracy: 0.9199\n",
            "Epoch 3/10\n",
            "58/58 [==============================] - 0s 4ms/step - loss: 0.1563 - accuracy: 0.9364 - val_loss: 0.1439 - val_accuracy: 0.9491\n",
            "Epoch 4/10\n",
            "58/58 [==============================] - 0s 4ms/step - loss: 0.1293 - accuracy: 0.9478 - val_loss: 0.1417 - val_accuracy: 0.9437\n",
            "Epoch 5/10\n",
            "58/58 [==============================] - 0s 5ms/step - loss: 0.1151 - accuracy: 0.9537 - val_loss: 0.1099 - val_accuracy: 0.9643\n",
            "Epoch 6/10\n",
            "58/58 [==============================] - 0s 4ms/step - loss: 0.1072 - accuracy: 0.9578 - val_loss: 0.1556 - val_accuracy: 0.9459\n",
            "Epoch 7/10\n",
            "58/58 [==============================] - 0s 4ms/step - loss: 0.1095 - accuracy: 0.9578 - val_loss: 0.0957 - val_accuracy: 0.9621\n",
            "Epoch 8/10\n",
            "58/58 [==============================] - 0s 4ms/step - loss: 0.1008 - accuracy: 0.9602 - val_loss: 0.0908 - val_accuracy: 0.9643\n",
            "Epoch 9/10\n",
            "58/58 [==============================] - 0s 4ms/step - loss: 0.0944 - accuracy: 0.9632 - val_loss: 0.0901 - val_accuracy: 0.9665\n",
            "Epoch 10/10\n",
            "58/58 [==============================] - 0s 4ms/step - loss: 0.0906 - accuracy: 0.9629 - val_loss: 0.1360 - val_accuracy: 0.9535\n"
          ]
        },
        {
          "output_type": "execute_result",
          "data": {
            "text/plain": [
              "<keras.src.callbacks.History at 0x7e46043c0b80>"
            ]
          },
          "metadata": {},
          "execution_count": 8
        }
      ]
    },
    {
      "cell_type": "code",
      "source": [
        "# Test the model\n",
        "score = model.evaluate(mfcc_test, one_hot_labels_test) # Use one_hot_labels_test instead of y_test\n",
        "print(\"Accuracy:\", score[1])"
      ],
      "metadata": {
        "id": "CBNJowkxcPg6",
        "colab": {
          "base_uri": "https://localhost:8080/"
        },
        "outputId": "e7bc1ade-4694-4463-e9d0-f412d51c8ab6"
      },
      "execution_count": null,
      "outputs": [
        {
          "output_type": "stream",
          "name": "stdout",
          "text": [
            "53/53 [==============================] - 0s 3ms/step - loss: 0.2404 - accuracy: 0.9179\n",
            "Accuracy: 0.9178571701049805\n"
          ]
        }
      ]
    }
  ],
  "metadata": {
    "colab": {
      "provenance": []
    },
    "kernelspec": {
      "display_name": "Python 3",
      "name": "python3"
    },
    "accelerator": "GPU",
    "gpuClass": "standard",
    "widgets": {
      "application/vnd.jupyter.widget-state+json": {
        "4f7d871342f9474baf0729de316e20a2": {
          "model_module": "@jupyter-widgets/controls",
          "model_name": "HBoxModel",
          "model_module_version": "1.5.0",
          "state": {
            "_dom_classes": [],
            "_model_module": "@jupyter-widgets/controls",
            "_model_module_version": "1.5.0",
            "_model_name": "HBoxModel",
            "_view_count": null,
            "_view_module": "@jupyter-widgets/controls",
            "_view_module_version": "1.5.0",
            "_view_name": "HBoxView",
            "box_style": "",
            "children": [
              "IPY_MODEL_50914efb6db04cbeb17d9f754edd79cb",
              "IPY_MODEL_83c78e8730c04fb4870942138fb157e7",
              "IPY_MODEL_275044ebe881453989f56eeb70c10b39"
            ],
            "layout": "IPY_MODEL_6f16dfbf08a0405fb7b4524d95ff67de"
          }
        },
        "50914efb6db04cbeb17d9f754edd79cb": {
          "model_module": "@jupyter-widgets/controls",
          "model_name": "HTMLModel",
          "model_module_version": "1.5.0",
          "state": {
            "_dom_classes": [],
            "_model_module": "@jupyter-widgets/controls",
            "_model_module_version": "1.5.0",
            "_model_name": "HTMLModel",
            "_view_count": null,
            "_view_module": "@jupyter-widgets/controls",
            "_view_module_version": "1.5.0",
            "_view_name": "HTMLView",
            "description": "",
            "description_tooltip": null,
            "layout": "IPY_MODEL_598a4f01f628426db5a1c0ab572eee2c",
            "placeholder": "​",
            "style": "IPY_MODEL_8228b6ce8eaf4c9890cf304e90143841",
            "value": "100%"
          }
        },
        "83c78e8730c04fb4870942138fb157e7": {
          "model_module": "@jupyter-widgets/controls",
          "model_name": "FloatProgressModel",
          "model_module_version": "1.5.0",
          "state": {
            "_dom_classes": [],
            "_model_module": "@jupyter-widgets/controls",
            "_model_module_version": "1.5.0",
            "_model_name": "FloatProgressModel",
            "_view_count": null,
            "_view_module": "@jupyter-widgets/controls",
            "_view_module_version": "1.5.0",
            "_view_name": "ProgressView",
            "bar_style": "success",
            "description": "",
            "description_tooltip": null,
            "layout": "IPY_MODEL_1f2ba9a8c03144b2bd769308ee79c0be",
            "max": 4620,
            "min": 0,
            "orientation": "horizontal",
            "style": "IPY_MODEL_a9ca57aa2cd1411992704e35e148a2d6",
            "value": 4620
          }
        },
        "275044ebe881453989f56eeb70c10b39": {
          "model_module": "@jupyter-widgets/controls",
          "model_name": "HTMLModel",
          "model_module_version": "1.5.0",
          "state": {
            "_dom_classes": [],
            "_model_module": "@jupyter-widgets/controls",
            "_model_module_version": "1.5.0",
            "_model_name": "HTMLModel",
            "_view_count": null,
            "_view_module": "@jupyter-widgets/controls",
            "_view_module_version": "1.5.0",
            "_view_name": "HTMLView",
            "description": "",
            "description_tooltip": null,
            "layout": "IPY_MODEL_ae932e447a60446ea8facba9e8ac9e2c",
            "placeholder": "​",
            "style": "IPY_MODEL_0e99007674684086bb803705d91f6736",
            "value": " 4620/4620 [01:11&lt;00:00, 76.44it/s]"
          }
        },
        "6f16dfbf08a0405fb7b4524d95ff67de": {
          "model_module": "@jupyter-widgets/base",
          "model_name": "LayoutModel",
          "model_module_version": "1.2.0",
          "state": {
            "_model_module": "@jupyter-widgets/base",
            "_model_module_version": "1.2.0",
            "_model_name": "LayoutModel",
            "_view_count": null,
            "_view_module": "@jupyter-widgets/base",
            "_view_module_version": "1.2.0",
            "_view_name": "LayoutView",
            "align_content": null,
            "align_items": null,
            "align_self": null,
            "border": null,
            "bottom": null,
            "display": null,
            "flex": null,
            "flex_flow": null,
            "grid_area": null,
            "grid_auto_columns": null,
            "grid_auto_flow": null,
            "grid_auto_rows": null,
            "grid_column": null,
            "grid_gap": null,
            "grid_row": null,
            "grid_template_areas": null,
            "grid_template_columns": null,
            "grid_template_rows": null,
            "height": null,
            "justify_content": null,
            "justify_items": null,
            "left": null,
            "margin": null,
            "max_height": null,
            "max_width": null,
            "min_height": null,
            "min_width": null,
            "object_fit": null,
            "object_position": null,
            "order": null,
            "overflow": null,
            "overflow_x": null,
            "overflow_y": null,
            "padding": null,
            "right": null,
            "top": null,
            "visibility": null,
            "width": null
          }
        },
        "598a4f01f628426db5a1c0ab572eee2c": {
          "model_module": "@jupyter-widgets/base",
          "model_name": "LayoutModel",
          "model_module_version": "1.2.0",
          "state": {
            "_model_module": "@jupyter-widgets/base",
            "_model_module_version": "1.2.0",
            "_model_name": "LayoutModel",
            "_view_count": null,
            "_view_module": "@jupyter-widgets/base",
            "_view_module_version": "1.2.0",
            "_view_name": "LayoutView",
            "align_content": null,
            "align_items": null,
            "align_self": null,
            "border": null,
            "bottom": null,
            "display": null,
            "flex": null,
            "flex_flow": null,
            "grid_area": null,
            "grid_auto_columns": null,
            "grid_auto_flow": null,
            "grid_auto_rows": null,
            "grid_column": null,
            "grid_gap": null,
            "grid_row": null,
            "grid_template_areas": null,
            "grid_template_columns": null,
            "grid_template_rows": null,
            "height": null,
            "justify_content": null,
            "justify_items": null,
            "left": null,
            "margin": null,
            "max_height": null,
            "max_width": null,
            "min_height": null,
            "min_width": null,
            "object_fit": null,
            "object_position": null,
            "order": null,
            "overflow": null,
            "overflow_x": null,
            "overflow_y": null,
            "padding": null,
            "right": null,
            "top": null,
            "visibility": null,
            "width": null
          }
        },
        "8228b6ce8eaf4c9890cf304e90143841": {
          "model_module": "@jupyter-widgets/controls",
          "model_name": "DescriptionStyleModel",
          "model_module_version": "1.5.0",
          "state": {
            "_model_module": "@jupyter-widgets/controls",
            "_model_module_version": "1.5.0",
            "_model_name": "DescriptionStyleModel",
            "_view_count": null,
            "_view_module": "@jupyter-widgets/base",
            "_view_module_version": "1.2.0",
            "_view_name": "StyleView",
            "description_width": ""
          }
        },
        "1f2ba9a8c03144b2bd769308ee79c0be": {
          "model_module": "@jupyter-widgets/base",
          "model_name": "LayoutModel",
          "model_module_version": "1.2.0",
          "state": {
            "_model_module": "@jupyter-widgets/base",
            "_model_module_version": "1.2.0",
            "_model_name": "LayoutModel",
            "_view_count": null,
            "_view_module": "@jupyter-widgets/base",
            "_view_module_version": "1.2.0",
            "_view_name": "LayoutView",
            "align_content": null,
            "align_items": null,
            "align_self": null,
            "border": null,
            "bottom": null,
            "display": null,
            "flex": null,
            "flex_flow": null,
            "grid_area": null,
            "grid_auto_columns": null,
            "grid_auto_flow": null,
            "grid_auto_rows": null,
            "grid_column": null,
            "grid_gap": null,
            "grid_row": null,
            "grid_template_areas": null,
            "grid_template_columns": null,
            "grid_template_rows": null,
            "height": null,
            "justify_content": null,
            "justify_items": null,
            "left": null,
            "margin": null,
            "max_height": null,
            "max_width": null,
            "min_height": null,
            "min_width": null,
            "object_fit": null,
            "object_position": null,
            "order": null,
            "overflow": null,
            "overflow_x": null,
            "overflow_y": null,
            "padding": null,
            "right": null,
            "top": null,
            "visibility": null,
            "width": null
          }
        },
        "a9ca57aa2cd1411992704e35e148a2d6": {
          "model_module": "@jupyter-widgets/controls",
          "model_name": "ProgressStyleModel",
          "model_module_version": "1.5.0",
          "state": {
            "_model_module": "@jupyter-widgets/controls",
            "_model_module_version": "1.5.0",
            "_model_name": "ProgressStyleModel",
            "_view_count": null,
            "_view_module": "@jupyter-widgets/base",
            "_view_module_version": "1.2.0",
            "_view_name": "StyleView",
            "bar_color": null,
            "description_width": ""
          }
        },
        "ae932e447a60446ea8facba9e8ac9e2c": {
          "model_module": "@jupyter-widgets/base",
          "model_name": "LayoutModel",
          "model_module_version": "1.2.0",
          "state": {
            "_model_module": "@jupyter-widgets/base",
            "_model_module_version": "1.2.0",
            "_model_name": "LayoutModel",
            "_view_count": null,
            "_view_module": "@jupyter-widgets/base",
            "_view_module_version": "1.2.0",
            "_view_name": "LayoutView",
            "align_content": null,
            "align_items": null,
            "align_self": null,
            "border": null,
            "bottom": null,
            "display": null,
            "flex": null,
            "flex_flow": null,
            "grid_area": null,
            "grid_auto_columns": null,
            "grid_auto_flow": null,
            "grid_auto_rows": null,
            "grid_column": null,
            "grid_gap": null,
            "grid_row": null,
            "grid_template_areas": null,
            "grid_template_columns": null,
            "grid_template_rows": null,
            "height": null,
            "justify_content": null,
            "justify_items": null,
            "left": null,
            "margin": null,
            "max_height": null,
            "max_width": null,
            "min_height": null,
            "min_width": null,
            "object_fit": null,
            "object_position": null,
            "order": null,
            "overflow": null,
            "overflow_x": null,
            "overflow_y": null,
            "padding": null,
            "right": null,
            "top": null,
            "visibility": null,
            "width": null
          }
        },
        "0e99007674684086bb803705d91f6736": {
          "model_module": "@jupyter-widgets/controls",
          "model_name": "DescriptionStyleModel",
          "model_module_version": "1.5.0",
          "state": {
            "_model_module": "@jupyter-widgets/controls",
            "_model_module_version": "1.5.0",
            "_model_name": "DescriptionStyleModel",
            "_view_count": null,
            "_view_module": "@jupyter-widgets/base",
            "_view_module_version": "1.2.0",
            "_view_name": "StyleView",
            "description_width": ""
          }
        },
        "dc3ce1512e834f09b9ce363248d73913": {
          "model_module": "@jupyter-widgets/controls",
          "model_name": "HBoxModel",
          "model_module_version": "1.5.0",
          "state": {
            "_dom_classes": [],
            "_model_module": "@jupyter-widgets/controls",
            "_model_module_version": "1.5.0",
            "_model_name": "HBoxModel",
            "_view_count": null,
            "_view_module": "@jupyter-widgets/controls",
            "_view_module_version": "1.5.0",
            "_view_name": "HBoxView",
            "box_style": "",
            "children": [
              "IPY_MODEL_3090892e95a34559a273a8efe28553ae",
              "IPY_MODEL_e1250839b1694bb8b91b57adc0a152ae",
              "IPY_MODEL_5da6594f4e704fe68b6feb2c89095e3d"
            ],
            "layout": "IPY_MODEL_c7e394d7d4414ba2b209ad2899578b78"
          }
        },
        "3090892e95a34559a273a8efe28553ae": {
          "model_module": "@jupyter-widgets/controls",
          "model_name": "HTMLModel",
          "model_module_version": "1.5.0",
          "state": {
            "_dom_classes": [],
            "_model_module": "@jupyter-widgets/controls",
            "_model_module_version": "1.5.0",
            "_model_name": "HTMLModel",
            "_view_count": null,
            "_view_module": "@jupyter-widgets/controls",
            "_view_module_version": "1.5.0",
            "_view_name": "HTMLView",
            "description": "",
            "description_tooltip": null,
            "layout": "IPY_MODEL_10f446e8d06643a19deda065e6f486af",
            "placeholder": "​",
            "style": "IPY_MODEL_0d52cd4ca48c47168ecd58c56608c308",
            "value": "100%"
          }
        },
        "e1250839b1694bb8b91b57adc0a152ae": {
          "model_module": "@jupyter-widgets/controls",
          "model_name": "FloatProgressModel",
          "model_module_version": "1.5.0",
          "state": {
            "_dom_classes": [],
            "_model_module": "@jupyter-widgets/controls",
            "_model_module_version": "1.5.0",
            "_model_name": "FloatProgressModel",
            "_view_count": null,
            "_view_module": "@jupyter-widgets/controls",
            "_view_module_version": "1.5.0",
            "_view_name": "ProgressView",
            "bar_style": "success",
            "description": "",
            "description_tooltip": null,
            "layout": "IPY_MODEL_b9c51ed05e4e45569b38fb191aeeb38f",
            "max": 1680,
            "min": 0,
            "orientation": "horizontal",
            "style": "IPY_MODEL_8008eb8af8214b029502e70e77ae7916",
            "value": 1680
          }
        },
        "5da6594f4e704fe68b6feb2c89095e3d": {
          "model_module": "@jupyter-widgets/controls",
          "model_name": "HTMLModel",
          "model_module_version": "1.5.0",
          "state": {
            "_dom_classes": [],
            "_model_module": "@jupyter-widgets/controls",
            "_model_module_version": "1.5.0",
            "_model_name": "HTMLModel",
            "_view_count": null,
            "_view_module": "@jupyter-widgets/controls",
            "_view_module_version": "1.5.0",
            "_view_name": "HTMLView",
            "description": "",
            "description_tooltip": null,
            "layout": "IPY_MODEL_c59b93c9b2f14db48840977660fddeaf",
            "placeholder": "​",
            "style": "IPY_MODEL_087c053afe0f4045aea021c914831f38",
            "value": " 1680/1680 [00:24&lt;00:00, 51.37it/s]"
          }
        },
        "c7e394d7d4414ba2b209ad2899578b78": {
          "model_module": "@jupyter-widgets/base",
          "model_name": "LayoutModel",
          "model_module_version": "1.2.0",
          "state": {
            "_model_module": "@jupyter-widgets/base",
            "_model_module_version": "1.2.0",
            "_model_name": "LayoutModel",
            "_view_count": null,
            "_view_module": "@jupyter-widgets/base",
            "_view_module_version": "1.2.0",
            "_view_name": "LayoutView",
            "align_content": null,
            "align_items": null,
            "align_self": null,
            "border": null,
            "bottom": null,
            "display": null,
            "flex": null,
            "flex_flow": null,
            "grid_area": null,
            "grid_auto_columns": null,
            "grid_auto_flow": null,
            "grid_auto_rows": null,
            "grid_column": null,
            "grid_gap": null,
            "grid_row": null,
            "grid_template_areas": null,
            "grid_template_columns": null,
            "grid_template_rows": null,
            "height": null,
            "justify_content": null,
            "justify_items": null,
            "left": null,
            "margin": null,
            "max_height": null,
            "max_width": null,
            "min_height": null,
            "min_width": null,
            "object_fit": null,
            "object_position": null,
            "order": null,
            "overflow": null,
            "overflow_x": null,
            "overflow_y": null,
            "padding": null,
            "right": null,
            "top": null,
            "visibility": null,
            "width": null
          }
        },
        "10f446e8d06643a19deda065e6f486af": {
          "model_module": "@jupyter-widgets/base",
          "model_name": "LayoutModel",
          "model_module_version": "1.2.0",
          "state": {
            "_model_module": "@jupyter-widgets/base",
            "_model_module_version": "1.2.0",
            "_model_name": "LayoutModel",
            "_view_count": null,
            "_view_module": "@jupyter-widgets/base",
            "_view_module_version": "1.2.0",
            "_view_name": "LayoutView",
            "align_content": null,
            "align_items": null,
            "align_self": null,
            "border": null,
            "bottom": null,
            "display": null,
            "flex": null,
            "flex_flow": null,
            "grid_area": null,
            "grid_auto_columns": null,
            "grid_auto_flow": null,
            "grid_auto_rows": null,
            "grid_column": null,
            "grid_gap": null,
            "grid_row": null,
            "grid_template_areas": null,
            "grid_template_columns": null,
            "grid_template_rows": null,
            "height": null,
            "justify_content": null,
            "justify_items": null,
            "left": null,
            "margin": null,
            "max_height": null,
            "max_width": null,
            "min_height": null,
            "min_width": null,
            "object_fit": null,
            "object_position": null,
            "order": null,
            "overflow": null,
            "overflow_x": null,
            "overflow_y": null,
            "padding": null,
            "right": null,
            "top": null,
            "visibility": null,
            "width": null
          }
        },
        "0d52cd4ca48c47168ecd58c56608c308": {
          "model_module": "@jupyter-widgets/controls",
          "model_name": "DescriptionStyleModel",
          "model_module_version": "1.5.0",
          "state": {
            "_model_module": "@jupyter-widgets/controls",
            "_model_module_version": "1.5.0",
            "_model_name": "DescriptionStyleModel",
            "_view_count": null,
            "_view_module": "@jupyter-widgets/base",
            "_view_module_version": "1.2.0",
            "_view_name": "StyleView",
            "description_width": ""
          }
        },
        "b9c51ed05e4e45569b38fb191aeeb38f": {
          "model_module": "@jupyter-widgets/base",
          "model_name": "LayoutModel",
          "model_module_version": "1.2.0",
          "state": {
            "_model_module": "@jupyter-widgets/base",
            "_model_module_version": "1.2.0",
            "_model_name": "LayoutModel",
            "_view_count": null,
            "_view_module": "@jupyter-widgets/base",
            "_view_module_version": "1.2.0",
            "_view_name": "LayoutView",
            "align_content": null,
            "align_items": null,
            "align_self": null,
            "border": null,
            "bottom": null,
            "display": null,
            "flex": null,
            "flex_flow": null,
            "grid_area": null,
            "grid_auto_columns": null,
            "grid_auto_flow": null,
            "grid_auto_rows": null,
            "grid_column": null,
            "grid_gap": null,
            "grid_row": null,
            "grid_template_areas": null,
            "grid_template_columns": null,
            "grid_template_rows": null,
            "height": null,
            "justify_content": null,
            "justify_items": null,
            "left": null,
            "margin": null,
            "max_height": null,
            "max_width": null,
            "min_height": null,
            "min_width": null,
            "object_fit": null,
            "object_position": null,
            "order": null,
            "overflow": null,
            "overflow_x": null,
            "overflow_y": null,
            "padding": null,
            "right": null,
            "top": null,
            "visibility": null,
            "width": null
          }
        },
        "8008eb8af8214b029502e70e77ae7916": {
          "model_module": "@jupyter-widgets/controls",
          "model_name": "ProgressStyleModel",
          "model_module_version": "1.5.0",
          "state": {
            "_model_module": "@jupyter-widgets/controls",
            "_model_module_version": "1.5.0",
            "_model_name": "ProgressStyleModel",
            "_view_count": null,
            "_view_module": "@jupyter-widgets/base",
            "_view_module_version": "1.2.0",
            "_view_name": "StyleView",
            "bar_color": null,
            "description_width": ""
          }
        },
        "c59b93c9b2f14db48840977660fddeaf": {
          "model_module": "@jupyter-widgets/base",
          "model_name": "LayoutModel",
          "model_module_version": "1.2.0",
          "state": {
            "_model_module": "@jupyter-widgets/base",
            "_model_module_version": "1.2.0",
            "_model_name": "LayoutModel",
            "_view_count": null,
            "_view_module": "@jupyter-widgets/base",
            "_view_module_version": "1.2.0",
            "_view_name": "LayoutView",
            "align_content": null,
            "align_items": null,
            "align_self": null,
            "border": null,
            "bottom": null,
            "display": null,
            "flex": null,
            "flex_flow": null,
            "grid_area": null,
            "grid_auto_columns": null,
            "grid_auto_flow": null,
            "grid_auto_rows": null,
            "grid_column": null,
            "grid_gap": null,
            "grid_row": null,
            "grid_template_areas": null,
            "grid_template_columns": null,
            "grid_template_rows": null,
            "height": null,
            "justify_content": null,
            "justify_items": null,
            "left": null,
            "margin": null,
            "max_height": null,
            "max_width": null,
            "min_height": null,
            "min_width": null,
            "object_fit": null,
            "object_position": null,
            "order": null,
            "overflow": null,
            "overflow_x": null,
            "overflow_y": null,
            "padding": null,
            "right": null,
            "top": null,
            "visibility": null,
            "width": null
          }
        },
        "087c053afe0f4045aea021c914831f38": {
          "model_module": "@jupyter-widgets/controls",
          "model_name": "DescriptionStyleModel",
          "model_module_version": "1.5.0",
          "state": {
            "_model_module": "@jupyter-widgets/controls",
            "_model_module_version": "1.5.0",
            "_model_name": "DescriptionStyleModel",
            "_view_count": null,
            "_view_module": "@jupyter-widgets/base",
            "_view_module_version": "1.2.0",
            "_view_name": "StyleView",
            "description_width": ""
          }
        }
      }
    }
  },
  "nbformat": 4,
  "nbformat_minor": 0
}